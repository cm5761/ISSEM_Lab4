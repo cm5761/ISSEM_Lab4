{
 "cells": [
  {
   "cell_type": "markdown",
   "metadata": {
    "id": "iVBQhTsrqR0Q"
   },
   "source": [
    "# Lab 4\n",
    "Alon Hillel-Tuch (ah5647), Md Sarker (mbs9284), Copeland Myrie (cm5761), Marty Trice(mgt9613)"
   ]
  },
  {
   "cell_type": "code",
   "execution_count": 1,
   "metadata": {
    "colab": {
     "base_uri": "https://localhost:8080/"
    },
    "id": "fH544AW49zka",
    "outputId": "51c4fec9-12fb-4fe2-c17c-634684a02848"
   },
   "outputs": [
    {
     "name": "stdout",
     "output_type": "stream",
     "text": [
      "Group:15 Lab 4 Course:ISSEM\n"
     ]
    }
   ],
   "source": [
    "Group = \"15\"\n",
    "Course = \"ISSEM\"\n",
    "Lab = \"Lab 4\"\n",
    "print(\"Group:\"+Group,Lab, \"Course:\"+Course)"
   ]
  },
  {
   "cell_type": "markdown",
   "metadata": {
    "id": "iX3sq8LL-Iwl"
   },
   "source": [
    "## Writing Tasks"
   ]
  },
  {
   "cell_type": "markdown",
   "metadata": {
    "id": "Ob-iu_AOrPsu"
   },
   "source": [
    "As per Professor, see separate Word/PDF submission"
   ]
  },
  {
   "cell_type": "markdown",
   "metadata": {
    "id": "cqttaTibrEaL"
   },
   "source": [
    "## Coding Tasks"
   ]
  },
  {
   "cell_type": "code",
   "execution_count": null,
   "metadata": {
    "colab": {
     "base_uri": "https://localhost:8080/"
    },
    "id": "9Ad390kSLIG4",
    "outputId": "d13b469b-1263-4e12-d659-9999e386f698"
   },
   "outputs": [],
   "source": [
    "# run one to setup environment properly if you do not have hvac installed\n",
    "!rm -rf myenv\n",
    "!python3 -m venv myenv\n",
    "!source myenv/bin/activate\n",
    "!myenv/bin/pip install --upgrade pip\n",
    "!myenv/bin/pip install ipykernel\n",
    "!myenv/bin/pip install hvac\n",
    "!myenv/bin/python3 -m ipykernel install --user --name=myenv\n",
    "\n"
   ]
  },
  {
   "cell_type": "code",
   "execution_count": null,
   "metadata": {
    "colab": {
     "base_uri": "https://localhost:8080/"
    },
    "id": "RxFXPiphNAKR",
    "outputId": "cba12b85-bed0-46e9-b1a5-c6e1dd084e03"
   },
   "outputs": [],
   "source": [
    "# Only run if you need hashicorp Vault setup\n",
    "\n",
    "import getpass\n",
    "import os\n",
    "\n",
    "# password capture\n",
    "password = getpass.getpass(\"Enter your password: \")\n",
    "\n",
    "command = \"sudo -S apt-get update\"\n",
    "os.system('echo {} | {}'.format(password, command))\n",
    "\n",
    "password = getpass.getpass(\"Enter your password again: \")\n",
    "\n",
    "command = \"sudo -S apt update && sudo -S apt install gpg\"\n",
    "os.system('echo {} | {}'.format(password, command))\n",
    "\n",
    "password = getpass.getpass(\"Enter your password once more: \")\n",
    "\n",
    "command = \"wget -O- https://apt.releases.hashicorp.com/gpg | sudo -S gpg --dearmor -o /usr/share/keyrings/hashicorp-archive-keyring.gpg\"\n",
    "os.system('echo {} | {}'.format(password, command))\n",
    "\n",
    "command = \"sudo -S gpg --no-default-keyring --keyring /usr/share/keyrings/hashicorp-archive-keyring.gpg --fingerprint\"\n",
    "os.system('echo {} | {}'.format(password, command))\n",
    "\n",
    "password = getpass.getpass(\"Enter your password again: \")\n",
    "\n",
    "command = 'echo \"deb [arch=$(dpkg --print-architecture) signed-by=/usr/share/keyrings/hashicorp-archive-keyring.gpg] https://apt.releases.hashicorp.com $(lsb_release -cs) main\" | sudo -S tee /etc/apt/sources.list.d/hashicorp.list'\n",
    "os.system('echo {} | {}'.format(password, command))\n",
    "\n",
    "password = getpass.getpass(\"Enter your password: \")\n",
    "\n",
    "command = \"sudo -S apt update\"\n",
    "os.system('echo {} | {}'.format(password, command))\n",
    "\n",
    "password = getpass.getpass(\"Enter your password: \")\n",
    "\n",
    "command = \"sudo -S apt install consul\"\n",
    "os.system('echo {} | {}'.format(password, command))\n",
    "\n",
    "password = getpass.getpass(\"Enter your password: \")\n",
    "\n",
    "command = \"sudo -S apt install vault\"\n",
    "os.system('echo {} | {}'.format(password, command))\n"
   ]
  },
  {
   "cell_type": "code",
   "execution_count": 1,
   "metadata": {
    "colab": {
     "base_uri": "https://localhost:8080/"
    },
    "id": "bLzLXKaRNWTr",
    "outputId": "10caf1e1-dc53-412c-f3f4-32aca7352a2c"
   },
   "outputs": [
    {
     "name": "stdout",
     "output_type": "stream",
     "text": [
      "==> Vault server configuration:\n",
      "\n",
      "             Api Address: http://127.0.0.1:8200\n",
      "                     Cgo: disabled\n",
      "         Cluster Address: https://127.0.0.1:8201\n",
      "   Environment Variables: CLICOLOR, CLICOLOR_FORCE, COLORTERM, DBUS_SESSION_BUS_ADDRESS, DBUS_STARTER_ADDRESS, DBUS_STARTER_BUS_TYPE, DEBUGINFOD_URLS, DESKTOP_SESSION, DISPLAY, FORCE_COLOR, GDMSESSION, GIT_PAGER, GNOME_DESKTOP_SESSION_ID, GNOME_SETUP_DISPLAY, GNOME_SHELL_SESSION_MODE, GNOME_TERMINAL_SCREEN, GNOME_TERMINAL_SERVICE, GODEBUG, GOTRACEBACK, GTK_MODULES, HOME, IM_CONFIG_PHASE, JPY_PARENT_PID, LANG, LESSCLOSE, LESSOPEN, LOGNAME, LS_COLORS, MPLBACKEND, PAGER, PATH, PWD, PYDEVD_USE_FRAME_EVAL, QT_ACCESSIBILITY, QT_IM_MODULE, SESSION_MANAGER, SHELL, SHLVL, SSH_AGENT_LAUNCHER, SSH_AUTH_SOCK, SYSTEMD_EXEC_PID, TERM, USER, USERNAME, VTE_VERSION, WAYLAND_DISPLAY, XAUTHORITY, XDG_CONFIG_DIRS, XDG_CURRENT_DESKTOP, XDG_DATA_DIRS, XDG_MENU_PREFIX, XDG_RUNTIME_DIR, XDG_SESSION_CLASS, XDG_SESSION_DESKTOP, XDG_SESSION_TYPE, XMODIFIERS, _\n",
      "              Go Version: go1.20.5\n",
      "              Listener 1: tcp (addr: \"127.0.0.1:8200\", cluster address: \"127.0.0.1:8201\", max_request_duration: \"1m30s\", max_request_size: \"33554432\", tls: \"disabled\")\n",
      "               Log Level: \n",
      "                   Mlock: supported: true, enabled: false\n",
      "           Recovery Mode: false\n",
      "                 Storage: inmem\n",
      "                 Version: Vault v1.14.0, built 2023-06-19T11:40:23Z\n",
      "             Version Sha: 13a649f860186dffe3f3a4459814d87191efc321\n",
      "\n",
      "==> Vault server started! Log data will stream in below:\n",
      "\n",
      "WARNING! dev mode is enabled! In this mode, Vault runs entirely in-memory\n",
      "and starts unsealed with a single unseal key. The root token is already\n",
      "authenticated to the CLI, so you can immediately begin using Vault.\n",
      "\n",
      "You may need to set the following environment variables:\n",
      "\n",
      "    $ export VAULT_ADDR='http://127.0.0.1:8200'\n",
      "\n",
      "The unseal key and root token are displayed below in case you want to\n",
      "seal/unseal the Vault or re-authenticate.\n",
      "\n",
      "Unseal Key: A50mJxUyxq71t4mreG5J4gFg4vkZ7Z/161UsW/Sm3eA=\n",
      "Root Token: dev-only-token\n",
      "\n",
      "Development mode should NOT be used in production installations!\n",
      "\n"
     ]
    },
    {
     "name": "stderr",
     "output_type": "stream",
     "text": [
      "2023-07-17T19:45:28.160-0400 [INFO]  proxy environment: http_proxy=\"\" https_proxy=\"\" no_proxy=\"\"\n",
      "2023-07-17T19:45:28.161-0400 [WARN]  no `api_addr` value specified in config or in VAULT_API_ADDR; falling back to detection if possible, but this value should be manually set\n",
      "2023-07-17T19:45:28.162-0400 [INFO]  core: Initializing version history cache for core\n",
      "2023-07-17T19:45:28.163-0400 [INFO]  core: security barrier not initialized\n",
      "2023-07-17T19:45:28.163-0400 [INFO]  core: security barrier initialized: stored=1 shares=1 threshold=1\n",
      "2023-07-17T19:45:28.167-0400 [INFO]  core: post-unseal setup starting\n",
      "2023-07-17T19:45:28.187-0400 [INFO]  core: loaded wrapping token key\n",
      "2023-07-17T19:45:28.187-0400 [INFO]  core: successfully setup plugin catalog: plugin-directory=\"\"\n",
      "2023-07-17T19:45:28.187-0400 [INFO]  core: no mounts; adding default mount table\n",
      "2023-07-17T19:45:28.189-0400 [INFO]  core: successfully mounted: type=cubbyhole version=\"v1.14.0+builtin.vault\" path=cubbyhole/ namespace=\"ID: root. Path: \"\n",
      "2023-07-17T19:45:28.190-0400 [INFO]  core: successfully mounted: type=system version=\"v1.14.0+builtin.vault\" path=sys/ namespace=\"ID: root. Path: \"\n",
      "2023-07-17T19:45:28.193-0400 [INFO]  core: successfully mounted: type=identity version=\"v1.14.0+builtin.vault\" path=identity/ namespace=\"ID: root. Path: \"\n",
      "2023-07-17T19:45:28.194-0400 [INFO]  core: successfully mounted: type=token version=\"v1.14.0+builtin.vault\" path=token/ namespace=\"ID: root. Path: \"\n",
      "2023-07-17T19:45:28.195-0400 [INFO]  rollback: starting rollback manager\n",
      "2023-07-17T19:45:28.195-0400 [INFO]  core: restoring leases\n",
      "2023-07-17T19:45:28.196-0400 [INFO]  expiration: lease restore complete\n",
      "2023-07-17T19:45:28.197-0400 [INFO]  identity: entities restored\n",
      "2023-07-17T19:45:28.197-0400 [INFO]  identity: groups restored\n",
      "2023-07-17T19:45:28.197-0400 [INFO]  core: Recorded vault version: vault version=1.14.0 upgrade time=\"2023-07-17 23:45:28.197296355 +0000 UTC\" build date=2023-06-19T11:40:23Z\n",
      "2023-07-17T19:45:28.537-0400 [INFO]  core: post-unseal setup complete\n",
      "2023-07-17T19:45:28.537-0400 [INFO]  core: root token generated\n",
      "2023-07-17T19:45:28.537-0400 [INFO]  core: pre-seal teardown starting\n",
      "2023-07-17T19:45:28.538-0400 [INFO]  rollback: stopping rollback manager\n",
      "2023-07-17T19:45:28.538-0400 [INFO]  core: pre-seal teardown complete\n",
      "2023-07-17T19:45:28.538-0400 [INFO]  core.cluster-listener.tcp: starting listener: listener_address=127.0.0.1:8201\n",
      "2023-07-17T19:45:28.538-0400 [INFO]  core.cluster-listener: serving cluster requests: cluster_listen_address=127.0.0.1:8201\n",
      "2023-07-17T19:45:28.538-0400 [INFO]  core: post-unseal setup starting\n",
      "2023-07-17T19:45:28.538-0400 [INFO]  core: loaded wrapping token key\n",
      "2023-07-17T19:45:28.538-0400 [INFO]  core: successfully setup plugin catalog: plugin-directory=\"\"\n",
      "2023-07-17T19:45:28.538-0400 [INFO]  core: successfully mounted: type=system version=\"v1.14.0+builtin.vault\" path=sys/ namespace=\"ID: root. Path: \"\n",
      "2023-07-17T19:45:28.539-0400 [INFO]  core: successfully mounted: type=identity version=\"v1.14.0+builtin.vault\" path=identity/ namespace=\"ID: root. Path: \"\n",
      "2023-07-17T19:45:28.539-0400 [INFO]  core: successfully mounted: type=cubbyhole version=\"v1.14.0+builtin.vault\" path=cubbyhole/ namespace=\"ID: root. Path: \"\n",
      "2023-07-17T19:45:28.539-0400 [INFO]  core: successfully mounted: type=token version=\"v1.14.0+builtin.vault\" path=token/ namespace=\"ID: root. Path: \"\n",
      "2023-07-17T19:45:28.539-0400 [INFO]  core: restoring leases\n",
      "2023-07-17T19:45:28.539-0400 [INFO]  rollback: starting rollback manager\n",
      "2023-07-17T19:45:28.539-0400 [INFO]  expiration: lease restore complete\n",
      "2023-07-17T19:45:28.539-0400 [INFO]  identity: entities restored\n",
      "2023-07-17T19:45:28.539-0400 [INFO]  identity: groups restored\n",
      "2023-07-17T19:45:28.540-0400 [INFO]  core: post-unseal setup complete\n",
      "2023-07-17T19:45:28.540-0400 [INFO]  core: vault is unsealed\n",
      "2023-07-17T19:45:28.541-0400 [INFO]  expiration: revoked lease: lease_id=auth/token/root/h4f99fee579481e8ad9277464d470bca50527b0fc8f0b65cb7a583b41dcfb24cb\n",
      "2023-07-17T19:45:28.545-0400 [INFO]  core: successful mount: namespace=\"\" path=secret/ type=kv version=\"\"\n"
     ]
    }
   ],
   "source": [
    "# Run in terminal or separate thread\n",
    "\n",
    "import subprocess\n",
    "import threading\n",
    "\n",
    "def run_command():\n",
    "    command = \"vault server -dev -dev-root-token-id=dev-only-token\"\n",
    "    subprocess.run(command, shell=True)\n",
    "\n",
    "# Create a separate thread for running the command\n",
    "thread = threading.Thread(target=run_command)\n",
    "\n",
    "# Start the thread\n",
    "thread.start()\n",
    "\n",
    "# Rest of the notebook code continues running..."
   ]
  },
  {
   "cell_type": "markdown",
   "metadata": {
    "id": "Dt7NvHkxQmHk"
   },
   "source": [
    "Our 'token' will not be stored in, here is an example of how we can store it in the OS environment, depending on the hardware environment we can use the TPM or other cryptographic engine as well, as well as multiple authentication processes."
   ]
  },
  {
   "cell_type": "markdown",
   "metadata": {
    "id": "Rj9FLUCBQIKx"
   },
   "source": [
    "We are setting in our hashicorp vault our password to verify"
   ]
  },
  {
   "cell_type": "code",
   "execution_count": 2,
   "metadata": {},
   "outputs": [
    {
     "name": "stdout",
     "output_type": "stream",
     "text": [
      "Environmental variables setup successfully.\n"
     ]
    }
   ],
   "source": [
    "# We are not just storing as an environmental variable but also encrypted with AES\n",
    "\n",
    "import os\n",
    "import platform\n",
    "from cryptography.fernet import Fernet\n",
    "\n",
    "# OS specific set\n",
    "def set_environment_variable(variable_name, value):\n",
    "    current_os = platform.system()\n",
    "    if current_os == 'Windows': #if we ever want to work on OS nuanced commands, this func will permit\n",
    "        os.environ[variable_name] = value\n",
    "    else:\n",
    "        os.environ[variable_name] = value\n",
    "\n",
    "# Encrypt the value using AES encryption\n",
    "def encrypt_value(key, value):\n",
    "    cipher_suite = Fernet(key)\n",
    "    encrypted_value = cipher_suite.encrypt(value.encode()).decode()\n",
    "    return encrypted_value\n",
    "\n",
    "# Decrypt the encrypted value using AES decryption\n",
    "def decrypt_value(key, encrypted_value):\n",
    "    cipher_suite = Fernet(key)\n",
    "    decrypted_value = cipher_suite.decrypt(encrypted_value.encode()).decode()\n",
    "    return decrypted_value\n",
    "\n",
    "# Generate a random encryption key\n",
    "def generate_encryption_key():\n",
    "    return Fernet.generate_key()\n",
    "\n",
    "# Example usage (this is the variable storing the key)\n",
    "# For demonstration purposes, we can work on better key storage/retrieval\n",
    "encryption_key = generate_encryption_key()\n",
    "\n",
    "# Encrypt the values\n",
    "encrypted_token = encrypt_value(encryption_key, 'dev-only-token')\n",
    "encrypted_path = encrypt_value(encryption_key, 'my-secret-password')\n",
    "encrypted_ip = encrypt_value(encryption_key, '127.0.0.1')\n",
    "encrypted_port = encrypt_value(encryption_key, '8200')\n",
    "\n",
    "# Set the encrypted values as environment variables\n",
    "set_environment_variable('SET_TOKEN', encrypted_token)\n",
    "set_environment_variable('SET_PATH', encrypted_path)\n",
    "set_environment_variable('SET_IP', encrypted_ip)\n",
    "set_environment_variable('SET_PORT', encrypted_port)\n",
    "\n",
    "print(\"Environmental variables setup successfully.\")\n"
   ]
  },
  {
   "cell_type": "code",
   "execution_count": 4,
   "metadata": {
    "colab": {
     "base_uri": "https://localhost:8080/",
     "height": 374
    },
    "id": "rzNX-A4NQGGa",
    "outputId": "feeefaf8-8900-4bc3-c17f-ffa7e156d383"
   },
   "outputs": [
    {
     "name": "stdout",
     "output_type": "stream",
     "text": [
      "Secret written successfully.\n"
     ]
    }
   ],
   "source": [
    "# Copyright (c) HashiCorp, Inc.\n",
    "# SPDX-License-Identifier: MPL-2.0\n",
    "# modified by Group 15 for ISSEM Lab 4\n",
    "\n",
    "import hvac\n",
    "import sys\n",
    "\n",
    "# Authentication\n",
    "client = hvac.Client(\n",
    "    url='http://'+decrypt_value(encryption_key,os.environ.get('SET_IP'))+':'+decrypt_value(encryption_key,os.environ.get('SET_PORT')),\n",
    "    token=decrypt_value(encryption_key,os.environ.get('SET_TOKEN'))\n",
    ")\n",
    "\n",
    "# Writing a secret\n",
    "create_response = client.secrets.kv.v2.create_or_update_secret(\n",
    "    path='my-secret-password',\n",
    "    secret=dict(password=encrypt_value(encryption_key,'!Q#E%T&U8i6y4r2w')) # Again, this is example code of how to set the password in our Vault\n",
    ")\n",
    "\n",
    "print('Secret written successfully.')"
   ]
  },
  {
   "cell_type": "code",
   "execution_count": 3,
   "metadata": {},
   "outputs": [
    {
     "name": "stdout",
     "output_type": "stream",
     "text": [
      "OS Environment:\n",
      "\n",
      "Proof Encrypted - SET_TOKEN:  gAAAAABktetr1cGqWlkfTc1izjMSPTIhiC5_TU3gtroDYsdc6NL5StxongjUGCYu-HPq2BPsuoEHkJQX4EGCa1NKbB3BjZhTTw==\n",
      "Proof Encrypted - SET_PATH:  gAAAAABktetrYsIn4Zo45nSurGfBNvizFewlZANlTA_B2Wp0rtPBndvR4XO_WUC-2ZYlAXBJvz7uGBkPx1UuPOUbyaWu27xsjS956KX_A-o6KasSh1pMyQg=\n",
      "Proof Encrypted - SET_IP:  gAAAAABktetrTTbVXSTq8u6f1X5COYh71dlFnfXgtR9YOiMAUu4WFKAPb4eeZ2kIbrrJJ_ZyJ7bWSeaGBhNdb8v0lHtJYCmVOA==\n",
      "Proof Encrypted - SET_PORT:  gAAAAABktetrPELo3ZMpM6akJ8BYrg-7pMT8dPoI3bbCztqiw4vyPhNwOts5rfYvZZopaSzr_5J2xfXo0AO7mbd7yrEno2FeXA==\n",
      "\n",
      "Decrypt the values:\n",
      "Proof Decrypted - SET_TOKEN:  dev-only-token\n",
      "Proof Decrypted - SET_PATH:  my-secret-password\n",
      "Proof Decrypted - SET_IP:  127.0.0.1\n",
      "Proof Decrypted - SET_PORT:  8200\n"
     ]
    }
   ],
   "source": [
    "# Proof of environmental Variables properly stored\n",
    "# Again we would never do this in production, this is for assignment proof\n",
    "\n",
    "import os\n",
    "print(\"OS Environment:\\n\")\n",
    "print(\"Proof Encrypted - SET_TOKEN: \",os.environ.get('SET_TOKEN'))\n",
    "print(\"Proof Encrypted - SET_PATH: \",os.environ.get('SET_PATH'))\n",
    "print(\"Proof Encrypted - SET_IP: \",os.environ.get('SET_IP'))\n",
    "print(\"Proof Encrypted - SET_PORT: \",os.environ.get('SET_PORT'))\n",
    "print (\"\\nDecrypt the values:\")\n",
    "print(\"Proof Decrypted - SET_TOKEN: \",decrypt_value(encryption_key,os.environ.get('SET_TOKEN')))\n",
    "print(\"Proof Decrypted - SET_PATH: \",decrypt_value(encryption_key,os.environ.get('SET_PATH')))\n",
    "print(\"Proof Decrypted - SET_IP: \",decrypt_value(encryption_key,os.environ.get('SET_IP')))\n",
    "print(\"Proof Decrypted - SET_PORT: \",decrypt_value(encryption_key,os.environ.get('SET_PORT')))"
   ]
  },
  {
   "cell_type": "markdown",
   "metadata": {},
   "source": [
    "### Discussion on storing as an OS Environmental Variable for below Vulnerabilities"
   ]
  },
  {
   "cell_type": "markdown",
   "metadata": {},
   "source": [
    "We recognize that Storing sensitive variables as environment variables rather than hardcoding them directly in code can improve security, but it is not a perfect solution. \n",
    "\n",
    "Pros:\n",
    "\n",
    "* By storing sensitive variables as environment variables, we are separating he secrets from the codebase. Reducing the risk of accidental exposure of sensitive information, such as when sharing or publishing code.\n",
    "* If the source code of an application is compromised, storing sensitive information as environment variables can limit the potential damage. The attacker would need to gain access to the environment where the application is deployed to retrieve the environment variables. Obviously this Jupyter Notebook is a Homework submission, and not production.\n",
    "\n",
    "Cons:\n",
    "\n",
    "* Environment variables are stored at the operating system level, which means that anyone with access to the environment can potentially view or modify them. If an attacker gains unauthorized access to the server or the user account running the application, they can access the environment variables.\n",
    "* Environment variables are typically plain text, lacking built-in encryption. This means that if an attacker gains access to the environment, they can easily read the values of the variables. Encryption mechanisms must be implemented separately to protect the values stored in environment variables.\n",
    "* Environment variables lack robust auditing capabilities. If a security breach occurs, it can be challenging to trace back who accessed or modified the environment variables. We strongly believe <b> the incubator should have a audit trail/monitor/logging system </b>.\n",
    "* Storing sensitive information as environment variables doesn't protect against runtime vulnerabilities, such as memory leaks or injection attacks. \n",
    "\n",
    "If we were to further develop we would do the following:\n",
    "\n",
    "* Enforce strict access controls at the operating system level\n",
    "* Implement monitoring and logging mechanisms to track access and modifications to the environment variables. \n",
    "* Implement secure deployment practices, such as secure configuration management, secure credential handling, and regularly updating and patching the underlying software and systems. Hashicorp was a first step here. "
   ]
  },
  {
   "cell_type": "markdown",
   "metadata": {},
   "source": [
    "### Encrypting TCP packets"
   ]
  },
  {
   "cell_type": "markdown",
   "metadata": {},
   "source": [
    "Note that we can encrypt the packets being sent to and from the server using a combination of certificates and other solutions. A TLS server could help here. This is what we would like to do in a future version of the assignment. However, for the purposes of this assignment we use a singular encryption key stored in the Jupyter Environments Python Kernel Space. THIS IS NOT IDEAL, AND NOT SECURE. However, we are purely doing so for demonstration purposes. We made the decision to <b>also encrypt all messages sent to server</b>. Knowing what messages are being sent, even if an error code, is still critical information that may inform an attacker that is sniffing packets. \n",
    "\n",
    "<b>We print to terminal at different points in the code our proof of work for encryption of the various data fields</b>. We would NEVER do this in a production environment, and are only doing this for the assignment. We also provide Wireshark outputs below (pre and post). We also keyboardinterrupt our code snippets since production would not run within a Jupyter Notebook."
   ]
  },
  {
   "cell_type": "markdown",
   "metadata": {},
   "source": [
    "![alternative text](./unencrypted_into_vault.png)"
   ]
  },
  {
   "cell_type": "markdown",
   "metadata": {},
   "source": [
    "![alternative text](./encrypted_into_vault.png)"
   ]
  },
  {
   "cell_type": "markdown",
   "metadata": {
    "id": "BimpYeqM_UfY"
   },
   "source": [
    "### Vulnerability 1 - Password is Hardcoded"
   ]
  },
  {
   "cell_type": "markdown",
   "metadata": {
    "id": "i1UK_jXQzh-p"
   },
   "source": [
    "In the SampleNetworkClient.py script, the author hardcodes the password (\"!Q#E%T&U8i6y4r2w\") in lines 56 & 67.\n",
    "\n",
    "Best practice, when handling passwords, consists of storing credentials in an identity-based secrets and encryption management system such as Hashicorp Vault (vaultproject.io) for managing secrets.\n",
    "\n",
    "There is no reference in the code to indicate that the messages are being encrypted, which means not only is the password susceptible to an attacker, but so is the data  transferred between both the client and server.\n",
    "\n",
    "\n",
    "---\n",
    "\n",
    "\n",
    " **Below are the following changes made to the code to remediate the vulnerability in question. Please note that after the removal of the hardcoded password (#2) and incorporating a call to Hashicorp (#4), the password no longer needs to be hardcoded to be reference.**\n",
    "<br>1) Import both hvac, for Hashicorp Vault, and os, for OS environment set variables\n",
    "<br>2) Remove the following (b\"!Q#E%T&U8i6y4r2w\") from the updateInfTemp and updateIncTemp class where the tokens are being set (self.infToken & self.incToken, respectively)\n",
    "<br>3) Remove the password  variable being set when calling the Authenticate class\n",
    "<br>4) Under the authenticate class, define host URL and credentials, then retrieve the password stored within the Hashicorp vault\n",
    "<br>5) Before the password is retrieved and sent to the destination host, as part of the authenticate class, the password retrieved from Hashicorp Vault is encrypted, further securing the traffic from potential attacks, such as a Man in the Middle (MitM) attack."
   ]
  },
  {
   "cell_type": "code",
   "execution_count": 5,
   "metadata": {
    "id": "nZkQ3HQtz3Mi"
   },
   "outputs": [
    {
     "name": "stderr",
     "output_type": "stream",
     "text": [
      "/tmp/ipykernel_4143/3089353954.py:28: UserWarning: frames=None which we can infer the length of, did not pass an explicit *save_count* and passed cache_frame_data=True.  To avoid a possibly unbounded cache, frame data caching has been disabled. To suppress this warning either pass `cache_frame_data=False` or `save_count=MAX_FRAMES`.\n",
      "  self.ani = animation.FuncAnimation(self.fig, self.updateInfTemp, interval=500)\n",
      "/tmp/ipykernel_4143/3089353954.py:29: UserWarning: frames=None which we can infer the length of, did not pass an explicit *save_count* and passed cache_frame_data=True.  To avoid a possibly unbounded cache, frame data caching has been disabled. To suppress this warning either pass `cache_frame_data=False` or `save_count=MAX_FRAMES`.\n",
      "  self.ani2 = animation.FuncAnimation(self.fig, self.updateIncTemp, interval=500)\n"
     ]
    },
    {
     "name": "stdout",
     "output_type": "stream",
     "text": [
      "PROOF: Decrypted URL:  http://127.0.0.1:8200\n",
      "PROOF: Decrypted Token:  dev-only-token\n"
     ]
    },
    {
     "data": {
      "image/png": "[encoded data removed]",
      "text/plain": [
       "<Figure size 640x480 with 1 Axes>"
      ]
     },
     "metadata": {},
     "output_type": "display_data"
    },
    {
     "name": "stdout",
     "output_type": "stream",
     "text": [
      "PROOF: encrypted password:  gAAAAABktet7NxPPRkH83gYFOrTEzX0qZqvu-lbvzyau08gXP8mpJzSR5Sxd2cnAY50x45Zqz7aN3NyO1jXs-JKBUhkN2mMd6hD7OpojbpDNBvfry1M9OcU=\n",
      "PROOF: decrypted password:  !Q#E%T&U8i6y4r2w\n",
      "PROOF - MESSAGE SENT:  (b'gAAAAABktev7CHztPCJFlVwnrAjx3-GtDE4XhvlJ8oq6ulAly_dylsoKpP5Ngpd4wCHs8DdrshdEyt-xf3ZEWLgbxh3s3P6CMKrhTxMAGyZqnH_3NIGTY5I=', ('127.0.0.1', 23456))\n"
     ]
    },
    {
     "ename": "KeyboardInterrupt",
     "evalue": "",
     "output_type": "error",
     "traceback": [
      "\u001b[0;31m---------------------------------------------------------------------------\u001b[0m",
      "\u001b[0;31mKeyboardInterrupt\u001b[0m                         Traceback (most recent call last)",
      "Cell \u001b[0;32mIn[5], line 96\u001b[0m\n\u001b[1;32m     94\u001b[0m plt\u001b[38;5;241m.\u001b[39mgrid()\n\u001b[1;32m     95\u001b[0m plt\u001b[38;5;241m.\u001b[39mshow()\n\u001b[0;32m---> 96\u001b[0m \u001b[43msnc\u001b[49m\u001b[38;5;241;43m.\u001b[39;49m\u001b[43mauthenticate\u001b[49m\u001b[43m(\u001b[49m\u001b[38;5;241;43m23456\u001b[39;49m\u001b[43m)\u001b[49m \u001b[38;5;66;03m# Note we will see an error because the server is not running\u001b[39;00m\n",
      "Cell \u001b[0;32mIn[5], line 67\u001b[0m, in \u001b[0;36mSimpleNetworkClient.authenticate\u001b[0;34m(self, p)\u001b[0m\n\u001b[1;32m     65\u001b[0m \u001b[38;5;28mprint\u001b[39m(\u001b[38;5;124m\"\u001b[39m\u001b[38;5;124mPROOF - MESSAGE SENT: \u001b[39m\u001b[38;5;124m\"\u001b[39m,message)  \u001b[38;5;66;03m# THIS WOULD NEVER BE IN PRODUCTION, THIS IS FOR ASSIGNMENT\u001b[39;00m\n\u001b[1;32m     66\u001b[0m s\u001b[38;5;241m.\u001b[39msendto(encrypt_value(encryption_key,password)\u001b[38;5;241m.\u001b[39mencode(\u001b[38;5;124m\"\u001b[39m\u001b[38;5;124mutf-8\u001b[39m\u001b[38;5;124m\"\u001b[39m), (decrypt_value(encryption_key,os\u001b[38;5;241m.\u001b[39menviron\u001b[38;5;241m.\u001b[39mget(\u001b[38;5;124m'\u001b[39m\u001b[38;5;124mSET_IP\u001b[39m\u001b[38;5;124m'\u001b[39m)), p) )\n\u001b[0;32m---> 67\u001b[0m msg, addr \u001b[38;5;241m=\u001b[39m \u001b[43ms\u001b[49m\u001b[38;5;241;43m.\u001b[39;49m\u001b[43mrecvfrom\u001b[49m\u001b[43m(\u001b[49m\u001b[38;5;241;43m1024\u001b[39;49m\u001b[43m)\u001b[49m \u001b[38;5;66;03m# This will crash unless server is running (forcibly close)\u001b[39;00m\n\u001b[1;32m     68\u001b[0m \u001b[38;5;28;01mreturn\u001b[39;00m msg\u001b[38;5;241m.\u001b[39mstrip()\n",
      "\u001b[0;31mKeyboardInterrupt\u001b[0m: "
     ]
    }
   ],
   "source": [
    "import matplotlib.pyplot as plt\n",
    "import matplotlib.animation as animation\n",
    "import time\n",
    "import math\n",
    "import socket\n",
    "import hvac\n",
    "import os\n",
    "# Run in terminal or separate thread\n",
    "\n",
    "\n",
    "class SimpleNetworkClient :\n",
    "    def __init__(self, port1, port2) :\n",
    "        self.fig, self.ax = plt.subplots()\n",
    "        now = time.time()\n",
    "        self.lastTime = now\n",
    "        self.times = [time.strftime(\"%H:%M:%S\", time.localtime(now-i)) for i in range(30, 0, -1)]\n",
    "        self.infTemps = [0]*30\n",
    "        self.incTemps = [0]*30\n",
    "        self.infLn, = plt.plot(range(30), self.infTemps, label=\"Infant Temperature\")\n",
    "        self.incLn, = plt.plot(range(30), self.incTemps, label=\"Incubator Temperature\")\n",
    "        plt.xticks(range(30), self.times, rotation=45)\n",
    "        plt.ylim((20,50))\n",
    "        plt.legend(handles=[self.infLn, self.incLn])\n",
    "        self.infPort = port1\n",
    "        self.incPort = port2\n",
    "\n",
    "        self.infToken = None\n",
    "        self.incToken = None\n",
    "\n",
    "        self.ani = animation.FuncAnimation(self.fig, self.updateInfTemp, interval=500)\n",
    "        self.ani2 = animation.FuncAnimation(self.fig, self.updateIncTemp, interval=500)\n",
    "\n",
    "        self.url='http://'+decrypt_value(encryption_key,os.environ.get('SET_IP'))+':'+decrypt_value(encryption_key,os.environ.get('SET_PORT'))\n",
    "        print(\"PROOF: Decrypted URL: \", self.url) # THIS WOULD NEVER BE IN PRODUCTION, THIS IS FOR ASSIGNMENT\n",
    "        self.set_token = decrypt_value(encryption_key,os.environ.get('SET_TOKEN')) # THIS WOULD NEVER BE IN PRODUCTION, THIS IS FOR ASSIGNMENT\n",
    "        print(\"PROOF: Decrypted Token: \",self.set_token)\n",
    "    def updateTime(self) :\n",
    "        now = time.time()\n",
    "        if math.floor(now) > math.floor(self.lastTime) :\n",
    "            t = time.strftime(\"%H:%M:%S\", time.localtime(now))\n",
    "            self.times.append(t)\n",
    "            #last 30 seconds of of data\n",
    "            self.times = self.times[-30:]\n",
    "            self.lastTime = now\n",
    "            plt.xticks(range(30), self.times,rotation = 45)\n",
    "            plt.title(time.strftime(\"%A, %Y-%m-%d\", time.localtime(now)))\n",
    "\n",
    "    def getTemperatureFromPort(self, p, tok) :\n",
    "        s = socket.socket(family=socket.AF_INET, type=socket.SOCK_DGRAM)\n",
    "        s.sendto(b\"%s;GET_TEMP\" % tok, (decrypt_value(encryption_key,os.environ.get('SET_IP')), p))\n",
    "        msg, addr = s.recvfrom(1024)\n",
    "        m = msg.decode(\"utf-8\")\n",
    "        return (float(m))\n",
    "\n",
    "    def authenticate(self, p) :\n",
    "        #Authenticate with Hashicorp Vault\n",
    "        client = hvac.Client(url=self.url, token=self.set_token,)\n",
    "        #Read password from Hashicorp Vault\n",
    "        read_response = client.secrets.kv.v2.read_secret_version(path=decrypt_value(encryption_key,os.environ.get('SET_PATH')),raise_on_deleted_version=True)\n",
    "        password = read_response['data']['data']['password']\n",
    "        print(\"PROOF: encrypted password: \", password) # THIS WOULD NEVER BE IN PRODUCTION, THIS IS FOR ASSIGNMENT\n",
    "        password = decrypt_value(encryption_key,password)\n",
    "        print(\"PROOF: decrypted password: \", password) # THIS WOULD NEVER BE IN PRODUCTION, THIS IS FOR ASSIGNMENT\n",
    "        \n",
    "        s = socket.socket(family=socket.AF_INET, type=socket.SOCK_DGRAM)\n",
    "        message = encrypt_value(encryption_key,password).encode(\"utf-8\"), (decrypt_value(encryption_key,os.environ.get('SET_IP')), p)\n",
    "        print(\"PROOF - MESSAGE SENT: \",message)  # THIS WOULD NEVER BE IN PRODUCTION, THIS IS FOR ASSIGNMENT\n",
    "        s.sendto(encrypt_value(encryption_key,password).encode(\"utf-8\"), (decrypt_value(encryption_key,os.environ.get('SET_IP')), p) )\n",
    "        msg, addr = s.recvfrom(1024) # This will crash unless server is running (forcibly close)\n",
    "        return msg.strip()\n",
    "\n",
    "    def updateInfTemp(self, frame) :\n",
    "        self.updateTime()\n",
    "        if self.infToken is None : #not yet authenticated\n",
    "            self.infToken = self.authenticate(self.infPort)\n",
    "\n",
    "        self.infTemps.append(self.getTemperatureFromPort(self.infPort, self.infToken)-273)\n",
    "        #self.infTemps.append(self.infTemps[-1] + 1)\n",
    "        self.infTemps = self.infTemps[-30:]\n",
    "        self.infLn.set_data(range(30), self.infTemps)\n",
    "        return self.infLn,\n",
    "\n",
    "    def updateIncTemp(self, frame) :\n",
    "        self.updateTime()\n",
    "        if self.incToken is None : #not yet authenticated\n",
    "            self.incToken = self.authenticate(self.incPort)\n",
    "\n",
    "        self.incTemps.append(self.getTemperatureFromPort(self.incPort, self.incToken)-273)\n",
    "        #self.incTemps.append(self.incTemps[-1] + 1)\n",
    "        self.incTemps = self.incTemps[-30:]\n",
    "        self.incLn.set_data(range(30), self.incTemps)\n",
    "        return self.incLn,\n",
    "\n",
    "snc = SimpleNetworkClient(23456, 23457)\n",
    "\n",
    "plt.grid()\n",
    "plt.show()\n",
    "snc.authenticate(23456) # Note we will see an error because the server is not running"
   ]
  },
  {
   "cell_type": "markdown",
   "metadata": {
    "id": "gnA7HF4s_VHn"
   },
   "source": [
    "### Vulnerability 2"
   ]
  },
  {
   "cell_type": "markdown",
   "metadata": {
    "id": "k4qbrZJz1w0U"
   },
   "source": [
    "There are numerous vulnerabilities we discussed in Lab 3. We then concluded to mitigate these vulnerabilities we can incorporate measures such as a token expiration period (removing tokens automatically after a predefined period of time), limiting the number of active tokens during a specified period of time (minimizing the impact of a DoS), or checking if a user already has a valid token and replacing the existing one vs. generating a new token would help drastically minimize potential impact.\n",
    "\n",
    "An alert monitor or logging system should be implemented whenever we have an 'event' such as a break of the loop, or too many tokens being created."
   ]
  },
  {
   "cell_type": "markdown",
   "metadata": {
    "id": "uDheK6N_2H87"
   },
   "source": [
    "##### SmartNetworkThermometer class"
   ]
  },
  {
   "cell_type": "markdown",
   "metadata": {
    "id": "X4hQEW_i9tLR"
   },
   "source": [
    "*   <b>Token Expiration and usage abuse</b>\n",
    "\n",
    "  We are going to import from datetime 'datetime' and 'timedelta'. Allowing us to build in a token expiration time like so (for 180 minutes): 'expiration_time = datetime.now() + timedelta(minutes=180)'\n",
    "\n",
    "  We implement the expiration time within the processCommands function.  180 minutes may not be appropriate, in our final code we will access it as a variable of type integer for easy modification.\n",
    "\n",
    "  We also need to handle the risk of continuos growth of the token list. After receiving a message, we first remove any expired tokens from the self.tokens dictionary by comparing the current time with the expiration times.\n",
    "\n",
    "  Then, if the number of tokens in the list exceeds a certain threshold (e.g., 20), we reject new tokens until the number of tokens decreases below the threshold. We add a condition to check the length of the self.tokens dictionary and handle the rejection of new tokens accordingly.\n",
    "\n",
    "*   <b>Hard coded token</b>\n",
    "\n",
    "  Considering we are using Python, it is particularly easy to lookup the token. We should be using a credential management solution here. In this solution we store the initial token as an environmental variable, and the password in a Hashicorp vault, we have our authenticate() function the hashicorp Client tasks. However, in a production environment we may make use on additionala authentication controls such as an employee ID badge, and password.\n",
    "\n",
    "\n",
    "<u>Additional concerns</u>:\n",
    "\n",
    "*   <b>Thread-safety for token access</b> - Resolution: Add appropriate locks or synchronization mechanisms when accessing and modifying the self.tokens dictionary in the SmartNetworkThermometer class to ensure thread safety.\n",
    "*   <b>Dictionary access error self.tokens[]</b> - Resolution: In the processCommands method of the SmartNetworkThermometer class, replace self.tokens[token] with self.tokens.get(token) to avoid a potential KeyError when accessing the token. Using self.tokens.get(token) will return None if the token does not exist in the dictionary, preventing the KeyError.\n",
    "*   <b>Infinite loop</b> - Resolution: Modify the run method of the SmartNetworkThermometer class to include a condition for breaking out of the loop when the thread is interrupted or stopped.  We add a check to break out of the loop when the thread is stopped or interrupted and implement a backup verification. The loop in the run() method will be terminated when the thread is interrupted or stopped, allowing the thread to exit gracefully"
   ]
  },
  {
   "cell_type": "markdown",
   "metadata": {
    "id": "3me1DHTVVFGZ"
   },
   "source": [
    "##### SimpleClient class"
   ]
  },
  {
   "cell_type": "markdown",
   "metadata": {
    "id": "Ok_HMpfJVIis"
   },
   "source": [
    "This is the exact same function from SampleClient.py, we have extracted this class to it's own .py file, for ease and consistency of maintenance and versioning. Much like we import infinc, we will do the same for simpleClient"
   ]
  },
  {
   "cell_type": "code",
   "execution_count": 6,
   "metadata": {
    "colab": {
     "base_uri": "https://localhost:8080/",
     "height": 357
    },
    "id": "xhVs4EX7_alD",
    "outputId": "c5a8f47c-f7f1-4d39-b489-80588e761bcf"
   },
   "outputs": [
    {
     "name": "stderr",
     "output_type": "stream",
     "text": [
      "/media/rock/30DC-DF6B/simpleclient.py:22: UserWarning: frames=None which we can infer the length of, did not pass an explicit *save_count* and passed cache_frame_data=True.  To avoid a possibly unbounded cache, frame data caching has been disabled. To suppress this warning either pass `cache_frame_data=False` or `save_count=MAX_FRAMES`.\n",
      "  self.ani = animation.FuncAnimation(self.fig, self.updateInfTemp, interval=500)\n",
      "/media/rock/30DC-DF6B/simpleclient.py:23: UserWarning: frames=None which we can infer the length of, did not pass an explicit *save_count* and passed cache_frame_data=True.  To avoid a possibly unbounded cache, frame data caching has been disabled. To suppress this warning either pass `cache_frame_data=False` or `save_count=MAX_FRAMES`.\n",
      "  self.ani2 = animation.FuncAnimation(self.fig, self.updateIncTemp, interval=500)\n"
     ]
    },
    {
     "data": {
      "image/png": "[encoded data removed]",
      "text/plain": [
       "<Figure size 640x480 with 1 Axes>"
      ]
     },
     "metadata": {},
     "output_type": "display_data"
    }
   ],
   "source": [
    "import threading\n",
    "import matplotlib.pyplot as plt\n",
    "import matplotlib.animation as animation\n",
    "\n",
    "import time\n",
    "import math\n",
    "import socket\n",
    "import fcntl\n",
    "import os\n",
    "import errno\n",
    "import random\n",
    "import string\n",
    "\n",
    "from datetime import datetime, timedelta\n",
    "\n",
    "from simpleclient import SimpleClient # importing simpleclient instead of duplicating code\n",
    "import infinc\n",
    "import hvac # hashicorp\n",
    "\n",
    "class SmartNetworkThermometer(threading.Thread):\n",
    "    open_cmds = [\"AUTH\", \"LOGOUT\"]\n",
    "    prot_cmds = [\"SET_DEGF\", \"SET_DEGC\", \"SET_DEGK\", \"GET_TEMP\", \"UPDATE_TEMP\"]\n",
    "\n",
    "    def __init__(self, source, updatePeriod, port):\n",
    "        threading.Thread.__init__(self, daemon=True)\n",
    "        self.source = source\n",
    "        self.updatePeriod = updatePeriod\n",
    "        self.curTemperature = 0\n",
    "        self.updateTemperature()\n",
    "        self.tokens = []\n",
    "        self.expiration_minutes = 180 # modifiable as appropriate\n",
    "\n",
    "        self.serverSocket = socket.socket(family=socket.AF_INET, type=socket.SOCK_DGRAM)\n",
    "        self.serverSocket.bind((decrypt_value(encryption_key,os.environ.get('SET_IP')), port))\n",
    "        fcntl.fcntl(self.serverSocket, fcntl.F_SETFL, os.O_NONBLOCK)\n",
    "\n",
    "        self.deg = \"K\"\n",
    "        self.token_lock = threading.Lock() # Our threading lock for token access\n",
    "        self.stopped = threading.Event()  # Event to indicate whether the thread should stop\n",
    "\n",
    "        # hashicorp credentials\n",
    "        self.url='http://'+decrypt_value(encryption_key,os.environ.get('SET_IP'))+':'+decrypt_value(encryption_key,os.environ.get('SET_PORT'))\n",
    "        # Retrieve the token from the environment variable\n",
    "        self.set_token = decrypt_value(encryption_key,os.environ.get('SET_TOKEN'))\n",
    "        \n",
    "    def stop(self): # threading stop/set function\n",
    "        self.stopped.set()\n",
    "\n",
    "    def setSource(self, source):\n",
    "        self.source = source\n",
    "\n",
    "    def setUpdatePeriod(self, updatePeriod):\n",
    "        self.updatePeriod = updatePeriod\n",
    "\n",
    "    def setDegreeUnit(self, s):\n",
    "        self.deg = s\n",
    "        if self.deg not in [\"F\", \"K\", \"C\"]:\n",
    "            self.deg = \"K\"\n",
    "\n",
    "    def updateTemperature(self):\n",
    "        self.curTemperature = self.source.getTemperature()\n",
    "\n",
    "    def getTemperature(self):\n",
    "        if self.deg == \"C\":\n",
    "            return self.curTemperature - 273\n",
    "        if self.deg == \"F\":\n",
    "            return (self.curTemperature - 273) * 9 / 5 + 32\n",
    "\n",
    "        return self.curTemperature\n",
    "\n",
    "    def authenticate(self) :\n",
    "        #Authenticate with Hashicorp Vault\n",
    "        client = hvac.Client(url=self.url, token=self.set_token,)\n",
    "        #Read password from Hashicorp Vault\n",
    "        read_response = client.secrets.kv.v2.read_secret_version(path=decrypt_value(encryption_key,os.environ.get('SET_PATH')),raise_on_deleted_version=True)\n",
    "        password = decrypt_value(encryption_key,read_response['data']['data']['password'])\n",
    "        return password\n",
    "\n",
    "def processCommands(self, msg, addr):\n",
    "    cmds = msg.split(';')\n",
    "    for c in cmds:\n",
    "        cs = c.split(' ')\n",
    "        if len(cs) == 2:  # should be either AUTH or LOGOUT\n",
    "            if cs[0] == \"AUTH\":\n",
    "                # Reading our secret\n",
    "                password = self.authenticate()\n",
    "                if cs[1] == password:\n",
    "                    with self.token_lock:\n",
    "                        token = ''.join(random.choice(string.ascii_uppercase + string.ascii_lowercase + string.digits) for _ in range(16))\n",
    "                        expiration_time = datetime.now() + timedelta(minutes=self.expiration_minutes)\n",
    "                        # Set token expiration time\n",
    "                        self.tokens[token] = expiration_time\n",
    "                    self.serverSocket.sendto(encrypt_value(encryption_key,token).encode(\"utf-8\"), addr)\n",
    "            elif cs[0] == \"LOGOUT\":\n",
    "                with self.token_lock: # our lock implemented\n",
    "                    token = cs[1]\n",
    "                    if self.tokens.get(token): # using get to prevent keyerrors\n",
    "                        del self.tokens[token]\n",
    "            else:  # unknown command\n",
    "                self.serverSocket.sendto(encrypt_value(encryption_key,\"Invalid Command\\n\").encode(\"utf-8\"), addr)\n",
    "        elif c == \"SET_DEGF\":\n",
    "            self.deg = \"F\"\n",
    "        elif c == \"SET_DEGC\":\n",
    "            self.deg = \"C\"\n",
    "        elif c == \"SET_DEGK\":\n",
    "            self.deg = \"K\"\n",
    "        elif c == \"GET_TEMP\":\n",
    "            self.serverSocket.sendto(encrypt_value(encryption_key,\"{}\\n\".format(self.getTemperature())).encode(\"utf-8\"), addr)\n",
    "        elif c == \"UPDATE_TEMP\":\n",
    "            self.updateTemperature()\n",
    "        elif c:\n",
    "            self.serverSocket.sendto(encrypt_value(encryption_key,\"Invalid Command\\n\").encode(\"utf-8\"), addr)\n",
    "\n",
    "    def run(self):\n",
    "        MAX_TOKENS = 20  # Maximum number of tokens allowed\n",
    "        while not self.stopped.is_set(): # help with infinite loop risk and race conditions\n",
    "            try:\n",
    "                # Remove expired tokens\n",
    "                with self.token_lock:\n",
    "                    current_time = datetime.now()\n",
    "                    expired_tokens = [token for token, expiration_time in self.tokens.items() if expiration_time <= current_time]\n",
    "                    for token in expired_tokens:\n",
    "                        del self.tokens[token]\n",
    "\n",
    "                msg, addr = self.serverSocket.recvfrom(1024)\n",
    "                msg = msg.decode(\"utf-8\").strip()\n",
    "                msg = decrypt_value(encryption_key,msg) #decrypting the received message\n",
    "                cmds = msg.split(' ')\n",
    "                if len(cmds) == 1:  # protected commands case\n",
    "                    semi = msg.find(';')\n",
    "                    if semi != -1:  # if we found the semicolon\n",
    "                        with self.token_lock:\n",
    "                            if msg[:semi] in self.tokens:  # if it's a valid token\n",
    "                                self.processCommands(msg[semi + 1:], addr)\n",
    "                            else:\n",
    "                                self.serverSocket.sendto(encrypt_value(encryption_key,\"Bad Token\\n\").encode(\"utf-8\"), addr)\n",
    "                    else:\n",
    "                        self.serverSocket.sendto(encrypt_value(encryption_key,\"Bad Command\\n\").encode(\"utf-8\"), addr)\n",
    "                elif len(cmds) == 2:\n",
    "                    if cmds[0] in self.open_cmds:  # if it's AUTH or LOGOUT\n",
    "                        with self.token_lock:\n",
    "                            if len(self.tokens) >= MAX_TOKENS: #check if we have reached the maximum number of permitted tokens\n",
    "                                self.serverSocket.sendto(encrypt_value(encryption_key,\"Too many tokens\\n\").encode(\"utf-8\"), addr)\n",
    "                            else:\n",
    "                                self.processCommands(msg, addr)\n",
    "                    else:\n",
    "                        self.serverSocket.sendto(encrypt_value(encryption_key,\"Authenticate First\\n\").encode(\"utf-8\"), addr)\n",
    "                else:\n",
    "                    self.serverSocket.sendto(encrypt_value(encryption_key,\"Bad Command\\n\").encode(\"utf-8\"), addr)\n",
    "\n",
    "            except IOError as e:\n",
    "                if e.errno == errno.EWOULDBLOCK:\n",
    "                    # do nothing\n",
    "                    pass\n",
    "                else:\n",
    "                    # do nothing for now\n",
    "                    pass\n",
    "\n",
    "            self.updateTemperature()\n",
    "            time.sleep(self.updatePeriod)\n",
    "            if threading.currentThread().interrupted: # break out of the loop if the thread is interrupted. This check is used as a backup in case the interruption is not handled through the self.stopped event.\n",
    "                break\n",
    "\n",
    "# SimpleClient is now imported\n",
    "\n",
    "UPDATE_PERIOD = .05 #in seconds\n",
    "SIMULATION_STEP = .1 #in seconds\n",
    "\n",
    "#create a new instance of IncubatorSimulator\n",
    "bob = infinc.Human(mass = 8, length = 1.68, temperature = 36 + 273)\n",
    "#bobThermo = infinc.SmartThermometer(bob, UPDATE_PERIOD)\n",
    "bobThermo = SmartNetworkThermometer(bob, UPDATE_PERIOD, 23456)\n",
    "bobThermo.start() #start the thread\n",
    "\n",
    "inc = infinc.Incubator(width = 1, depth=1, height = 1, temperature = 37 + 273, roomTemperature = 20 + 273)\n",
    "#incThermo = infinc.SmartNetworkThermometer(inc, UPDATE_PERIOD)\n",
    "incThermo = SmartNetworkThermometer(inc, UPDATE_PERIOD, 23457)\n",
    "incThermo.start() #start the thread\n",
    "\n",
    "incHeater = infinc.SmartHeater(powerOutput = 1500, setTemperature = 45 + 273, thermometer = incThermo, updatePeriod = UPDATE_PERIOD)\n",
    "inc.setHeater(incHeater)\n",
    "incHeater.start() #start the thread\n",
    "\n",
    "sim = infinc.Simulator(infant = bob, incubator = inc, roomTemp = 20 + 273, timeStep = SIMULATION_STEP, sleepTime = SIMULATION_STEP / 10)\n",
    "\n",
    "sim.start()\n",
    "\n",
    "sc = SimpleClient(bobThermo, incThermo)\n",
    "\n",
    "plt.grid()\n",
    "plt.show()\n"
   ]
  },
  {
   "cell_type": "markdown",
   "metadata": {
    "id": "fK7fJI5Z_YFw"
   },
   "source": [
    "### Vulnerability 3 - Plaintext authentication token and authentication"
   ]
  },
  {
   "cell_type": "markdown",
   "metadata": {
    "id": "wPcSDLq_0QHa"
   },
   "source": [
    "Since the authenticate class transfers the tokens over the network without performing any encryption to secure the token value, the token value becomes vulnerable to exploits; there is no reference in the code to indicate that the messages are being encrypted.\n",
    "\n",
    "Malicious characters can perform attacks, such as a Man in the Middle (MitM), to obtain the authentication token value, and attempt to send an authentication request, ultimately enabling unauthorized access to manipulate the temperature levels of the incubator.\n",
    "\n",
    "\n",
    "---\n",
    "\n",
    "\n",
    " **Below are the following changes made to the code to remediate the vulnerability in question. Please note that in order to secure the authentication token and overall authentication, the password will not be sent as plaintext but rather encrypted before being sent across the network (#5) .**\n",
    "<br>1) Import both hvac, for Hashicorp Vault, and os, for OS environment set variables\n",
    "<br>2) Remove the following (b\"!Q#E%T&U8i6y4r2w\") from the updateInfTemp and updateIncTemp class where the tokens are being set (self.infToken & self.incToken, respectively)\n",
    "<br>3) Remove the password  variable being set when calling the Authenticate class\n",
    "<br>4) Under the authenticate class, define host URL and credentials, then retrieve the password stored within the Hashicorp vault\n",
    "<br>5) Before the password is retrieved and sent to the destination host, as part of the authenticate class, the password retrieved from Hashicorp Vault is encrypted, further securing the traffic from potential attacks, such as a Man in the Middle (MitM) attack."
   ]
  },
  {
   "cell_type": "code",
   "execution_count": 7,
   "metadata": {
    "id": "meqpsRlb0PW-"
   },
   "outputs": [
    {
     "name": "stderr",
     "output_type": "stream",
     "text": [
      "/tmp/ipykernel_4143/3072558999.py:28: UserWarning: frames=None which we can infer the length of, did not pass an explicit *save_count* and passed cache_frame_data=True.  To avoid a possibly unbounded cache, frame data caching has been disabled. To suppress this warning either pass `cache_frame_data=False` or `save_count=MAX_FRAMES`.\n",
      "  self.ani = animation.FuncAnimation(self.fig, self.updateInfTemp, interval=500)\n",
      "/tmp/ipykernel_4143/3072558999.py:29: UserWarning: frames=None which we can infer the length of, did not pass an explicit *save_count* and passed cache_frame_data=True.  To avoid a possibly unbounded cache, frame data caching has been disabled. To suppress this warning either pass `cache_frame_data=False` or `save_count=MAX_FRAMES`.\n",
      "  self.ani2 = animation.FuncAnimation(self.fig, self.updateIncTemp, interval=500)\n"
     ]
    },
    {
     "data": {
      "image/png": "[encoded data removed]",
      "text/plain": [
       "<Figure size 640x480 with 1 Axes>"
      ]
     },
     "metadata": {},
     "output_type": "display_data"
    },
    {
     "name": "stdout",
     "output_type": "stream",
     "text": [
      "Proof of encryption : gAAAAABktet7NxPPRkH83gYFOrTEzX0qZqvu-lbvzyau08gXP8mpJzSR5Sxd2cnAY50x45Zqz7aN3NyO1jXs-JKBUhkN2mMd6hD7OpojbpDNBvfry1M9OcU=\n",
      "Proof of decryption : !Q#E%T&U8i6y4r2w\n"
     ]
    },
    {
     "ename": "KeyboardInterrupt",
     "evalue": "",
     "output_type": "error",
     "traceback": [
      "\u001b[0;31m---------------------------------------------------------------------------\u001b[0m",
      "\u001b[0;31mKeyboardInterrupt\u001b[0m                         Traceback (most recent call last)",
      "Cell \u001b[0;32mIn[7], line 93\u001b[0m\n\u001b[1;32m     91\u001b[0m plt\u001b[38;5;241m.\u001b[39mgrid()\n\u001b[1;32m     92\u001b[0m plt\u001b[38;5;241m.\u001b[39mshow()\n\u001b[0;32m---> 93\u001b[0m \u001b[43msnc\u001b[49m\u001b[38;5;241;43m.\u001b[39;49m\u001b[43mauthenticate\u001b[49m\u001b[43m(\u001b[49m\u001b[38;5;241;43m23456\u001b[39;49m\u001b[43m)\u001b[49m \u001b[38;5;66;03m#for demo purposes\u001b[39;00m\n",
      "Cell \u001b[0;32mIn[7], line 64\u001b[0m, in \u001b[0;36mSimpleNetworkClient.authenticate\u001b[0;34m(self, p)\u001b[0m\n\u001b[1;32m     62\u001b[0m s \u001b[38;5;241m=\u001b[39m socket\u001b[38;5;241m.\u001b[39msocket(family\u001b[38;5;241m=\u001b[39msocket\u001b[38;5;241m.\u001b[39mAF_INET, \u001b[38;5;28mtype\u001b[39m\u001b[38;5;241m=\u001b[39msocket\u001b[38;5;241m.\u001b[39mSOCK_DGRAM)\n\u001b[1;32m     63\u001b[0m s\u001b[38;5;241m.\u001b[39msendto(password\u001b[38;5;241m.\u001b[39mencode(\u001b[38;5;124m\"\u001b[39m\u001b[38;5;124mutf-8\u001b[39m\u001b[38;5;124m\"\u001b[39m), (decrypt_value(encryption_key,os\u001b[38;5;241m.\u001b[39menviron\u001b[38;5;241m.\u001b[39mget(\u001b[38;5;124m'\u001b[39m\u001b[38;5;124mSET_IP\u001b[39m\u001b[38;5;124m'\u001b[39m)), p))\n\u001b[0;32m---> 64\u001b[0m msg, addr \u001b[38;5;241m=\u001b[39m \u001b[43ms\u001b[49m\u001b[38;5;241;43m.\u001b[39;49m\u001b[43mrecvfrom\u001b[49m\u001b[43m(\u001b[49m\u001b[38;5;241;43m1024\u001b[39;49m\u001b[43m)\u001b[49m \u001b[38;5;66;03m# This will forcibly close if server is not running\u001b[39;00m\n\u001b[1;32m     65\u001b[0m \u001b[38;5;28;01mreturn\u001b[39;00m decrypt_value(encryption_key,msg\u001b[38;5;241m.\u001b[39mstrip())\n",
      "\u001b[0;31mKeyboardInterrupt\u001b[0m: "
     ]
    }
   ],
   "source": [
    "import matplotlib.pyplot as plt\n",
    "import matplotlib.animation as animation\n",
    "import time\n",
    "import math\n",
    "import socket\n",
    "import hvac\n",
    "import os\n",
    "\n",
    "class SimpleNetworkClient :\n",
    "    def __init__(self, port1, port2) :\n",
    "        self.fig, self.ax = plt.subplots()\n",
    "        now = time.time()\n",
    "        self.lastTime = now\n",
    "        self.times = [time.strftime(\"%H:%M:%S\", time.localtime(now-i)) for i in range(30, 0, -1)]\n",
    "        self.infTemps = [0]*30\n",
    "        self.incTemps = [0]*30\n",
    "        self.infLn, = plt.plot(range(30), self.infTemps, label=\"Infant Temperature\")\n",
    "        self.incLn, = plt.plot(range(30), self.incTemps, label=\"Incubator Temperature\")\n",
    "        plt.xticks(range(30), self.times, rotation=45)\n",
    "        plt.ylim((20,50))\n",
    "        plt.legend(handles=[self.infLn, self.incLn])\n",
    "        self.infPort = port1\n",
    "        self.incPort = port2\n",
    "\n",
    "        self.infToken = None\n",
    "        self.incToken = None\n",
    "\n",
    "        self.ani = animation.FuncAnimation(self.fig, self.updateInfTemp, interval=500)\n",
    "        self.ani2 = animation.FuncAnimation(self.fig, self.updateIncTemp, interval=500)\n",
    "\n",
    "        self.url='http://'+decrypt_value(encryption_key,os.environ.get('SET_IP'))+':'+decrypt_value(encryption_key,os.environ.get('SET_PORT'))\n",
    "        self.set_token = decrypt_value(encryption_key,os.environ.get('SET_TOKEN'))\n",
    "\n",
    "    def updateTime(self) :\n",
    "        now = time.time()\n",
    "        if math.floor(now) > math.floor(self.lastTime) :\n",
    "            t = time.strftime(\"%H:%M:%S\", time.localtime(now))\n",
    "            self.times.append(t)\n",
    "            #last 30 seconds of of data\n",
    "            self.times = self.times[-30:]\n",
    "            self.lastTime = now\n",
    "            plt.xticks(range(30), self.times,rotation = 45)\n",
    "            plt.title(time.strftime(\"%A, %Y-%m-%d\", time.localtime(now)))\n",
    "\n",
    "    def getTemperatureFromPort(self, p, tok) :\n",
    "        s = socket.socket(family=socket.AF_INET, type=socket.SOCK_DGRAM)\n",
    "        s.sendto(encrypt_value(encryption_key,\"%s;GET_TEMP\" % tok).encode(\"utf-8\"), (decrypt_value(encryption_key,os.environ.get('SET_IP'), p)))\n",
    "        msg, addr = s.recvfrom(1024)\n",
    "        m = msg.decode(\"utf-8\")\n",
    "        return (float(m))\n",
    "\n",
    "    def authenticate(self, p) :\n",
    "        #Authenticate with Hashicorp Vault\n",
    "        client = hvac.Client(url=self.url, token=self.set_token,)\n",
    "        #Read password from Hashicorp Vault\n",
    "        read_response = client.secrets.kv.v2.read_secret_version(path=decrypt_value(encryption_key,os.environ.get('SET_PATH')),raise_on_deleted_version=True)\n",
    "        password = read_response['data']['data']['password']\n",
    "        password_decrypt = decrypt_value(encryption_key,password) # decrypting our password for demonstration\n",
    "        print(\"Proof of encryption :\",password)\n",
    "        print(\"Proof of decryption :\",password_decrypt)\n",
    "\n",
    "        s = socket.socket(family=socket.AF_INET, type=socket.SOCK_DGRAM)\n",
    "        s.sendto(password.encode(\"utf-8\"), (decrypt_value(encryption_key,os.environ.get('SET_IP')), p))\n",
    "        msg, addr = s.recvfrom(1024) # This will forcibly close if server is not running\n",
    "        return decrypt_value(encryption_key,msg.strip()) #decrypting received message\n",
    "\n",
    "    def updateInfTemp(self, frame) :\n",
    "        self.updateTime()\n",
    "        if self.infToken is None : #not yet authenticated\n",
    "            self.infToken = self.authenticate(self.infPort)\n",
    "\n",
    "        self.infTemps.append(self.getTemperatureFromPort(self.infPort, self.infToken)-273)\n",
    "        #self.infTemps.append(self.infTemps[-1] + 1)\n",
    "        self.infTemps = self.infTemps[-30:]\n",
    "        self.infLn.set_data(range(30), self.infTemps)\n",
    "        return self.infLn,\n",
    "\n",
    "    def updateIncTemp(self, frame) :\n",
    "        self.updateTime()\n",
    "        if self.incToken is None : #not yet authenticated\n",
    "            self.incToken = self.authenticate(self.incPort)\n",
    "\n",
    "        self.incTemps.append(self.getTemperatureFromPort(self.incPort, self.incToken)-273)\n",
    "        #self.incTemps.append(self.incTemps[-1] + 1)\n",
    "        self.incTemps = self.incTemps[-30:]\n",
    "        self.incLn.set_data(range(30), self.incTemps)\n",
    "        return self.incLn,\n",
    "\n",
    "snc = SimpleNetworkClient(23456, 23457)\n",
    "\n",
    "plt.grid()\n",
    "plt.show()\n",
    "snc.authenticate(23456) #for demo purposes"
   ]
  },
  {
   "cell_type": "code",
   "execution_count": null,
   "metadata": {},
   "outputs": [],
   "source": []
  }
 ],
 "metadata": {
  "colab": {
   "provenance": []
  },
  "kernelspec": {
   "display_name": "Python 3 (ipykernel)",
   "language": "python",
   "name": "python3"
  },
  "language_info": {
   "codemirror_mode": {
    "name": "ipython",
    "version": 3
   },
   "file_extension": ".py",
   "mimetype": "text/x-python",
   "name": "python",
   "nbconvert_exporter": "python",
   "pygments_lexer": "ipython3",
   "version": "3.9.7"
  }
 },
 "nbformat": 4,
 "nbformat_minor": 1
}
